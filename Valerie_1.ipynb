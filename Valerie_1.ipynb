{
 "cells": [
  {
   "cell_type": "markdown",
   "metadata": {},
   "source": [
    "# Module 4 Project\n",
    "## Author: [Valerie Johnson](https://github.com/Valpal84) Repository: [Datafun-04-notebooks](https://github.com/Valpal84/datafun-04-notebooks)\n",
    "\n",
    "## Helpful Resources:\n",
    "- [Jupyter Tips & Tricks](https://www.youtube.com/watch?v=2eCHD6f_phE) -YouTube video to assist with data science workflow.\n",
    "- [15 Tips & Tricks That Will Ease Your Coding Experience](https://towardsdatascience.com/15-tips-and-tricks-for-jupyter-notebook-that-will-ease-your-coding-experience-e469207ac95c) - Tips and tricks to help improve your coding experience. \n",
    "- [Jupyter Notebook Extensions You Need to Boost Your Productivity](https://saturncloud.io/blog/jupyter-notebook-extensions-you-need-to-boost-your-productivity/#:~:text=In%20this%20blog%20post%2C%20we%20have%20discussed%20some%20of%20the,%2C%20Collapsible%20Headings%2C%20and%20Scratchpad.) - Blog to show helpful Jupyter extension to boost your productivity."
   ]
  },
  {
   "cell_type": "markdown",
   "metadata": {},
   "source": [
    "## Task 1-Series"
   ]
  },
  {
   "cell_type": "code",
   "execution_count": 1,
   "metadata": {},
   "outputs": [
    {
     "data": {
      "text/plain": [
       "(87,\n",
       " 12,\n",
       " 80.08333333333333,\n",
       " 46,\n",
       " 100,\n",
       " 16.951579885251423,\n",
       " count     12.000000\n",
       " mean      80.083333\n",
       " std       16.951580\n",
       " min       46.000000\n",
       " 25%       70.000000\n",
       " 50%       83.500000\n",
       " 75%       92.750000\n",
       " max      100.000000\n",
       " dtype: float64)"
      ]
     },
     "execution_count": 1,
     "metadata": {},
     "output_type": "execute_result"
    }
   ],
   "source": [
    "#Creat a pandas series of grades, get first value and call built in series functions\n",
    "import pandas as pd\n",
    "grades = pd.Series([87, 46, 100, 99, 92, 88, 72, 64, 80, 79, 95, 59])\n",
    "grades[0], grades.count(), grades.mean(), grades.min(), grades.max(), grades.std(), grades.describe()"
   ]
  },
  {
   "cell_type": "markdown",
   "metadata": {},
   "source": [
    "## Task 2-Series from Dictionary"
   ]
  },
  {
   "cell_type": "code",
   "execution_count": 2,
   "metadata": {},
   "outputs": [
    {
     "data": {
      "text/plain": [
       "Wally     87\n",
       "Eva      100\n",
       "Sam       94\n",
       "dtype: int64"
      ]
     },
     "execution_count": 2,
     "metadata": {},
     "output_type": "execute_result"
    }
   ],
   "source": [
    "#Grades with a dictionary via dictionary inititalizers\n",
    "grades = pd.Series({'Wally': 87, 'Eva': 100, 'Sam': 94})\n",
    "\n",
    "grades"
   ]
  },
  {
   "cell_type": "code",
   "execution_count": 3,
   "metadata": {},
   "outputs": [
    {
     "data": {
      "text/plain": [
       "100"
      ]
     },
     "execution_count": 3,
     "metadata": {},
     "output_type": "execute_result"
    }
   ],
   "source": [
    "#Eva's score by calling\n",
    "grades['Eva']"
   ]
  },
  {
   "cell_type": "code",
   "execution_count": 4,
   "metadata": {},
   "outputs": [
    {
     "data": {
      "text/plain": [
       "87"
      ]
     },
     "execution_count": 4,
     "metadata": {},
     "output_type": "execute_result"
    }
   ],
   "source": [
    "# Wally's score using the easier dot notation\n",
    "grades.Wally"
   ]
  },
  {
   "cell_type": "code",
   "execution_count": 5,
   "metadata": {},
   "outputs": [
    {
     "data": {
      "text/plain": [
       "array([ 87, 100,  94], dtype=int64)"
      ]
     },
     "execution_count": 5,
     "metadata": {},
     "output_type": "execute_result"
    }
   ],
   "source": [
    "#Display an array of values\n",
    "grades.values\n"
   ]
  },
  {
   "cell_type": "code",
   "execution_count": 6,
   "metadata": {},
   "outputs": [
    {
     "data": {
      "text/plain": [
       "0    86\n",
       "1    67\n",
       "2    81\n",
       "3    76\n",
       "4    76\n",
       "5    64\n",
       "dtype: int32"
      ]
     },
     "execution_count": 6,
     "metadata": {},
     "output_type": "execute_result"
    }
   ],
   "source": [
    "#Perform the self check on pg 266 of text\n",
    "import numpy as np\n",
    "import pandas as pd\n",
    "\n",
    "temps = np.random.randint(60, 101, 6)\n",
    "temperatures = pd.Series(temps)\n",
    "temperatures\n"
   ]
  },
  {
   "cell_type": "code",
   "execution_count": 7,
   "metadata": {},
   "outputs": [
    {
     "data": {
      "text/plain": [
       "75.0"
      ]
     },
     "execution_count": 7,
     "metadata": {},
     "output_type": "execute_result"
    }
   ],
   "source": [
    "#Determine highest, lowest and average temps\n",
    "temperatures.min()\n",
    "temperatures.max()\n",
    "temperatures.mean()"
   ]
  },
  {
   "cell_type": "code",
   "execution_count": 8,
   "metadata": {},
   "outputs": [
    {
     "data": {
      "text/plain": [
       "count     6.000000\n",
       "mean     75.000000\n",
       "std       8.294577\n",
       "min      64.000000\n",
       "25%      69.250000\n",
       "50%      76.000000\n",
       "75%      79.750000\n",
       "max      86.000000\n",
       "dtype: float64"
      ]
     },
     "execution_count": 8,
     "metadata": {},
     "output_type": "execute_result"
    }
   ],
   "source": [
    "#Product descriptive stats for the series\n",
    "temperatures.describe()"
   ]
  }
 ],
 "metadata": {
  "kernelspec": {
   "display_name": ".venv",
   "language": "python",
   "name": "python3"
  },
  "language_info": {
   "codemirror_mode": {
    "name": "ipython",
    "version": 3
   },
   "file_extension": ".py",
   "mimetype": "text/x-python",
   "name": "python",
   "nbconvert_exporter": "python",
   "pygments_lexer": "ipython3",
   "version": "3.11.4"
  },
  "orig_nbformat": 4
 },
 "nbformat": 4,
 "nbformat_minor": 2
}
