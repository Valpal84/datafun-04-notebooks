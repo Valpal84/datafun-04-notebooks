{
 "cells": [
  {
   "cell_type": "markdown",
   "metadata": {},
   "source": [
    "# Module 4 Project\n",
    "## Author: [Valerie Johnson](https://github.com/Valpal84) Repository: [Datafun-04-notebooks](https://github.com/Valpal84/datafun-04-notebooks)\n",
    "\n",
    "## Helpful Resources:\n",
    "- [Jupyter Tips & Tricks](https://www.youtube.com/watch?v=2eCHD6f_phE) -YouTube video to assist with data science workflow.\n",
    "- [15 Tips & Tricks That Will Ease Your Coding Experience](https://towardsdatascience.com/15-tips-and-tricks-for-jupyter-notebook-that-will-ease-your-coding-experience-e469207ac95c) - Tips and tricks to help improve your coding experience. \n",
    "- [Jupyter Notebook Extensions You Need to Boost Your Productivity](https://saturncloud.io/blog/jupyter-notebook-extensions-you-need-to-boost-your-productivity/#:~:text=In%20this%20blog%20post%2C%20we%20have%20discussed%20some%20of%20the,%2C%20Collapsible%20Headings%2C%20and%20Scratchpad.) - Blog to show helpful Jupyter extension to boost your productivity."
   ]
  },
  {
   "cell_type": "markdown",
   "metadata": {},
   "source": [
    "## Task 1-Series"
   ]
  },
  {
   "cell_type": "code",
   "execution_count": null,
   "metadata": {},
   "outputs": [],
   "source": [
    "#Creat a pandas series of grades, get first value and call built in series functions\n",
    "import pandas as pd\n",
    "grades = pd.Series([87, 46, 100, 99, 92, 88, 72, 64, 80, 79, 95, 59])\n",
    "grades[0], grades.count(), grades.mean(), grades.min(), grades.max(), grades.std(), grades.describe()"
   ]
  },
  {
   "cell_type": "markdown",
   "metadata": {},
   "source": [
    "## Task 2-Series from Dictionary"
   ]
  },
  {
   "cell_type": "code",
   "execution_count": null,
   "metadata": {},
   "outputs": [],
   "source": [
    "#Grades with a dictionary via dictionary inititalizers\n",
    "grades = pd.Series({'Wally': 87, 'Eva': 100, 'Sam': 94})\n",
    "\n",
    "grades"
   ]
  },
  {
   "cell_type": "code",
   "execution_count": null,
   "metadata": {},
   "outputs": [],
   "source": [
    "#Eva's score by calling\n",
    "grades['Eva']"
   ]
  },
  {
   "cell_type": "code",
   "execution_count": null,
   "metadata": {},
   "outputs": [],
   "source": [
    "# Wally's score using the easier dot notation\n",
    "grades.Wally"
   ]
  }
 ],
 "metadata": {
  "kernelspec": {
   "display_name": ".venv",
   "language": "python",
   "name": "python3"
  },
  "language_info": {
   "name": "python",
   "version": "3.11.4"
  },
  "orig_nbformat": 4
 },
 "nbformat": 4,
 "nbformat_minor": 2
}
