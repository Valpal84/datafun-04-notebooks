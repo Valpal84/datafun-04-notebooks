{
 "cells": [
  {
   "cell_type": "markdown",
   "metadata": {},
   "source": [
    "# Module 4 Project\n",
    "## Author: [Valerie Johnson](https://github.com/Valpal84) Repository: [Datafun-04-notebooks](https://github.com/Valpal84/datafun-04-notebooks)\n",
    "\n",
    "## Helpful Resources:\n",
    "- [Jupyter Tips & Tricks](https://www.youtube.com/watch?v=2eCHD6f_phE) -YouTube video to assist with data science workflow.\n",
    "- "
   ]
  },
  {
   "cell_type": "markdown",
   "metadata": {},
   "source": []
  }
 ],
 "metadata": {
  "kernelspec": {
   "display_name": ".venv",
   "language": "python",
   "name": "python3"
  },
  "language_info": {
   "codemirror_mode": {
    "name": "ipython",
    "version": 3
   },
   "file_extension": ".py",
   "mimetype": "text/x-python",
   "name": "python",
   "nbconvert_exporter": "python",
   "pygments_lexer": "ipython3",
   "version": "3.11.4"
  },
  "orig_nbformat": 4
 },
 "nbformat": 4,
 "nbformat_minor": 2
}
